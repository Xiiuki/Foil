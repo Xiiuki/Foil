{
 "cells": [
  {
   "cell_type": "code",
   "execution_count": null,
   "metadata": {},
   "outputs": [],
   "source": [
    "import requests\n",
    "import json"
   ]
  },
  {
   "cell_type": "code",
   "execution_count": null,
   "metadata": {},
   "outputs": [],
   "source": [
    "response = requests.get(\"http://api.pioupiou.fr/v1/live/410\").text\n",
    "response_info = json.loads(response)\n",
    "\n",
    "print(type(response_info))\n",
    "print(response_info)"
   ]
  },
  {
   "cell_type": "code",
   "execution_count": null,
   "metadata": {},
   "outputs": [],
   "source": [
    "def loop():\n",
    "\n",
    "    import sqlite3\n",
    "    import requests\n",
    "    \n",
    "    station = [410, 432, 113]\n",
    "\n",
    "    foil = []\n",
    "\n",
    "    for e in station :\n",
    "    \n",
    "        requete = f\"http://api.pioupiou.fr/v1/live-with-meta/{e}\"\n",
    "\n",
    "        response = requests.get(requete)\n",
    "        \n",
    "        response_dict = response.json()\n",
    "    \n",
    "        foil.append(response.json())\n",
    "    \n",
    "    db = sqlite3.connect('winds.db')\n",
    "\n",
    "    cursor = db.cursor()\n",
    "\n",
    "    for data in foil:\n",
    "    \n",
    "        data = data['data']\n",
    "    \n",
    "        print(data)\n",
    "    \n",
    "        cursor.execute(\"\"\"INSERT INTO measurement (id,\n",
    "                                                   latitude,\n",
    "                                                   longitude,\n",
    "                                                   state,\n",
    "                                                   date,\n",
    "                                                   wind_heading,\n",
    "                                                   wind_speed_avg,\n",
    "                                                   wind_speed_max,\n",
    "                                                   wind_speed_min)\n",
    "                          VALUES (?, ?, ?, ?, ?, ?, ?, ?, ?)\"\"\",\n",
    "                         (data['id'],\n",
    "                          data['location']['latitude'],\n",
    "                          data['location']['longitude'],\n",
    "                          data['status']['state'],\n",
    "                          data['measurements']['date'],\n",
    "                          data['measurements']['wind_heading'],\n",
    "                          data['measurements']['wind_speed_avg'],\n",
    "                          data['measurements']['wind_speed_max'],\n",
    "                          data['measurements']['wind_speed_min'])\n",
    "                       )\n",
    "                                        \n",
    "        db.commit()\n",
    "        \n",
    "        print(\"Insertion effectuée\")\n",
    "\n",
    "    cursor.close()\n",
    "    db.close()"
   ]
  },
  {
   "cell_type": "code",
   "execution_count": null,
   "metadata": {},
   "outputs": [],
   "source": [
    "import schedule\n",
    "import time\n",
    "\n",
    "schedule.every(4).minutes.do(loop)\n",
    "\n",
    "while True:\n",
    "    schedule.run_pending()\n",
    "    time.sleep(10)"
   ]
  },
  {
   "cell_type": "code",
   "execution_count": 24,
   "metadata": {},
   "outputs": [],
   "source": [
    "def create_readable_dbcopy():\n",
    "    \n",
    "    #create a .sql file as a backup\n",
    "    import sqlite3\n",
    "    import io\n",
    "\n",
    "    conn = sqlite3.connect('winds.db')\n",
    "    with io.open('Backup/winds_dump.db', 'w') as f:\n",
    "        for measurement in conn.iterdump():\n",
    "            f.write('%s\\n' % measurement)\n",
    "            \n",
    "    print('Backup performed successfully.')\n",
    "    print('Saved as winds_dump.db')\n",
    "    \n",
    "    conn.close()"
   ]
  },
  {
   "cell_type": "code",
   "execution_count": 25,
   "metadata": {},
   "outputs": [
    {
     "name": "stdout",
     "output_type": "stream",
     "text": [
      "Backup performed successfully.\n",
      "Saved as winds_dump.db\n"
     ]
    }
   ],
   "source": [
    "create_readable_dbcopy()"
   ]
  },
  {
   "cell_type": "code",
   "execution_count": 22,
   "metadata": {},
   "outputs": [],
   "source": [
    "def create_copy_db():\n",
    "\n",
    "    #create a copy of the database as a backup\n",
    "    import shutil\n",
    "    import os\n",
    " \n",
    "    try:\n",
    "        path='C:/Users/joris/Documents/Simplon/Dev_data/Vents/Foil'\n",
    "    \n",
    "        shutil.copyfile('winds.db','C:/Users/joris/Documents/Simplon/Dev_data/Vents/Foil/Backup/winds.db')\n",
    " \n",
    "        print(\"Success copying winds.db\")\n",
    "    \n",
    "    except:\n",
    "        print(\"error while copying winds.db\")"
   ]
  },
  {
   "cell_type": "code",
   "execution_count": 23,
   "metadata": {},
   "outputs": [
    {
     "name": "stdout",
     "output_type": "stream",
     "text": [
      "Success copying winds.db\n"
     ]
    }
   ],
   "source": [
    "create_copy_db()"
   ]
  },
  {
   "cell_type": "code",
   "execution_count": null,
   "metadata": {},
   "outputs": [],
   "source": []
  }
 ],
 "metadata": {
  "kernelspec": {
   "display_name": "Python 3",
   "language": "python",
   "name": "python3"
  },
  "language_info": {
   "codemirror_mode": {
    "name": "ipython",
    "version": 3
   },
   "file_extension": ".py",
   "mimetype": "text/x-python",
   "name": "python",
   "nbconvert_exporter": "python",
   "pygments_lexer": "ipython3",
   "version": "3.9.1"
  }
 },
 "nbformat": 4,
 "nbformat_minor": 4
}
