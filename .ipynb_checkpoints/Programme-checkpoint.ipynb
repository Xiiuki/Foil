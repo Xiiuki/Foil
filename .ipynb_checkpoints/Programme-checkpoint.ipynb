{
 "cells": [
  {
   "cell_type": "markdown",
   "metadata": {},
   "source": [
    "# Scripts :"
   ]
  },
  {
   "cell_type": "markdown",
   "metadata": {},
   "source": [
    "## Requête pour interroger l'API et insérer les données de 3 stations :"
   ]
  },
  {
   "cell_type": "markdown",
   "metadata": {},
   "source": [
    "---"
   ]
  },
  {
   "cell_type": "code",
   "execution_count": 1,
   "metadata": {},
   "outputs": [],
   "source": [
    "def loop():\n",
    "\n",
    "    import sqlite3\n",
    "    import requests\n",
    "    import json\n",
    "    \n",
    "    station = [410, 432, 113]\n",
    "\n",
    "    foil = []\n",
    "    \n",
    "    for e in station :\n",
    "    \n",
    "        requete = f\"http://api.pioupiou.fr/v1/live-with-meta/{e}\"\n",
    "\n",
    "        response = requests.get(requete)\n",
    "        \n",
    "        response_dict = response.json()\n",
    "    \n",
    "        foil.append(response.json())\n",
    "    \n",
    "    db = sqlite3.connect('winds.db')\n",
    "\n",
    "    cursor = db.cursor()\n",
    "\n",
    "    for data in foil:\n",
    "    \n",
    "        data = data['data']\n",
    "    \n",
    "        cursor.execute(\"\"\"INSERT INTO measurement (id,\n",
    "                                                   latitude,\n",
    "                                                   longitude,\n",
    "                                                   state,\n",
    "                                                   date,\n",
    "                                                   wind_heading,\n",
    "                                                   wind_speed_avg,\n",
    "                                                   wind_speed_max,\n",
    "                                                   wind_speed_min)\n",
    "                          VALUES (?, ?, ?, ?, ?, ?, ?, ?, ?)\"\"\",\n",
    "                         (data['id'],\n",
    "                          data['location']['latitude'],\n",
    "                          data['location']['longitude'],\n",
    "                          data['status']['state'],\n",
    "                          data['measurements']['date'],\n",
    "                          data['measurements']['wind_heading'],\n",
    "                          data['measurements']['wind_speed_avg'],\n",
    "                          data['measurements']['wind_speed_max'],\n",
    "                          data['measurements']['wind_speed_min'])\n",
    "                       )\n",
    "                                        \n",
    "        db.commit()\n",
    "        \n",
    "        print(\"Insertion effectuée\")\n",
    "        \n",
    "    cursor.close()\n",
    "    db.close()"
   ]
  },
  {
   "cell_type": "markdown",
   "metadata": {},
   "source": [
    "---"
   ]
  },
  {
   "cell_type": "markdown",
   "metadata": {},
   "source": [
    "## Requête pour créer une boucle d'insertion automatique dans la BDD"
   ]
  },
  {
   "cell_type": "code",
   "execution_count": 4,
   "metadata": {},
   "outputs": [],
   "source": [
    "def schedule_loop():\n",
    "\n",
    "    import schedule\n",
    "    import time\n",
    "    \n",
    "    schedule.every(3).minutes.do(loop)\n",
    "    schedule.every(7).minutes.do(create_copy_db)\n",
    "    schedule.every(7).minutes.do(create_readable_dbcopy)\n",
    "        \n",
    "    while True:\n",
    "        schedule.run_pending()\n",
    "        time.sleep(10)"
   ]
  },
  {
   "cell_type": "code",
   "execution_count": 5,
   "metadata": {},
   "outputs": [
    {
     "name": "stdout",
     "output_type": "stream",
     "text": [
      "Insertion effectuée\n",
      "Insertion effectuée\n",
      "Insertion effectuée\n",
      "Insertion effectuée\n",
      "Insertion effectuée\n",
      "Insertion effectuée\n",
      "Success copying winds.db\n",
      "Backup performed successfully.\n",
      "Insertion effectuée\n",
      "Insertion effectuée\n",
      "Insertion effectuée\n",
      "Insertion effectuée\n",
      "Insertion effectuée\n",
      "Insertion effectuée\n",
      "Success copying winds.db\n",
      "Backup performed successfully.\n"
     ]
    },
    {
     "ename": "KeyboardInterrupt",
     "evalue": "",
     "output_type": "error",
     "traceback": [
      "\u001b[1;31m---------------------------------------------------------------------------\u001b[0m",
      "\u001b[1;31mKeyboardInterrupt\u001b[0m                         Traceback (most recent call last)",
      "\u001b[1;32m<ipython-input-5-453b76a8cb73>\u001b[0m in \u001b[0;36m<module>\u001b[1;34m\u001b[0m\n\u001b[1;32m----> 1\u001b[1;33m \u001b[0mschedule_loop\u001b[0m\u001b[1;33m(\u001b[0m\u001b[1;33m)\u001b[0m\u001b[1;33m\u001b[0m\u001b[1;33m\u001b[0m\u001b[0m\n\u001b[0m",
      "\u001b[1;32m<ipython-input-4-b6067879750c>\u001b[0m in \u001b[0;36mschedule_loop\u001b[1;34m()\u001b[0m\n\u001b[0;32m     10\u001b[0m     \u001b[1;32mwhile\u001b[0m \u001b[1;32mTrue\u001b[0m\u001b[1;33m:\u001b[0m\u001b[1;33m\u001b[0m\u001b[1;33m\u001b[0m\u001b[0m\n\u001b[0;32m     11\u001b[0m         \u001b[0mschedule\u001b[0m\u001b[1;33m.\u001b[0m\u001b[0mrun_pending\u001b[0m\u001b[1;33m(\u001b[0m\u001b[1;33m)\u001b[0m\u001b[1;33m\u001b[0m\u001b[1;33m\u001b[0m\u001b[0m\n\u001b[1;32m---> 12\u001b[1;33m         \u001b[0mtime\u001b[0m\u001b[1;33m.\u001b[0m\u001b[0msleep\u001b[0m\u001b[1;33m(\u001b[0m\u001b[1;36m10\u001b[0m\u001b[1;33m)\u001b[0m\u001b[1;33m\u001b[0m\u001b[1;33m\u001b[0m\u001b[0m\n\u001b[0m",
      "\u001b[1;31mKeyboardInterrupt\u001b[0m: "
     ]
    }
   ],
   "source": [
    "schedule_loop()"
   ]
  },
  {
   "cell_type": "markdown",
   "metadata": {},
   "source": [
    "---"
   ]
  },
  {
   "cell_type": "markdown",
   "metadata": {},
   "source": [
    "## Requêtes pour sauvegarder la BDD"
   ]
  },
  {
   "cell_type": "code",
   "execution_count": 2,
   "metadata": {},
   "outputs": [],
   "source": [
    "def create_readable_dbcopy():\n",
    "    \n",
    "    #create a .sql file as a backup in Backup folder\n",
    "    import sqlite3\n",
    "    import io\n",
    "\n",
    "    conn = sqlite3.connect('winds.db')\n",
    "    with io.open('Backup/winds_dump.sql', 'w') as f:\n",
    "        for measurement in conn.iterdump():\n",
    "            f.write('%s\\n' % measurement)\n",
    "            \n",
    "    print('Backup performed successfully.')\n",
    "    \n",
    "    conn.close()"
   ]
  },
  {
   "cell_type": "code",
   "execution_count": null,
   "metadata": {},
   "outputs": [],
   "source": [
    "create_readable_dbcopy()"
   ]
  },
  {
   "cell_type": "code",
   "execution_count": 3,
   "metadata": {},
   "outputs": [],
   "source": [
    "def create_copy_db():\n",
    "\n",
    "    #create a copy of the database as a backup in Backup folder\n",
    "    import shutil\n",
    "    import os\n",
    " \n",
    "    try:\n",
    "        path='C:/Users/joris/Documents/Simplon/Dev_data/Vents/Foil'\n",
    "    \n",
    "        shutil.copyfile('winds.db','C:/Users/joris/Documents/Simplon/Dev_data/Vents/Foil/Backup/winds.db')\n",
    " \n",
    "        print(\"Success copying winds.db\")\n",
    "    \n",
    "    except:\n",
    "        print(\"error while copying winds.db\")"
   ]
  },
  {
   "cell_type": "code",
   "execution_count": null,
   "metadata": {},
   "outputs": [],
   "source": [
    "create_copy_db()"
   ]
  },
  {
   "cell_type": "markdown",
   "metadata": {},
   "source": [
    "---"
   ]
  },
  {
   "cell_type": "markdown",
   "metadata": {},
   "source": [
    "## Requête de compteur pour activer la sauvegarde :"
   ]
  },
  {
   "cell_type": "code",
   "execution_count": null,
   "metadata": {},
   "outputs": [],
   "source": [
    "def compteur(stop):\n",
    "    i = 0\n",
    "    while i < stop:\n",
    "        print(i)\n",
    "        i = i + 1\n",
    "    create_copy_db()\n",
    "    create_readable_dbcopy()\n",
    "\n",
    "a = 2\n",
    "compteur(a)"
   ]
  },
  {
   "cell_type": "markdown",
   "metadata": {},
   "source": [
    "---"
   ]
  },
  {
   "cell_type": "markdown",
   "metadata": {},
   "source": [
    "## Requête interrogation API - insertion - automatisation insertion - sauvegarde au bout de 2 insertions de 3 lignes de données"
   ]
  },
  {
   "cell_type": "code",
   "execution_count": null,
   "metadata": {},
   "outputs": [],
   "source": [
    "def schedule_loop():\n",
    "\n",
    "    import schedule\n",
    "    import time\n",
    "    \n",
    "    c = 0\n",
    "    \n",
    "    while c < 2:\n",
    "        print(c)\n",
    "        \n",
    "        c + 1 = loop()\n",
    "        print(c)\n",
    "        \n",
    "        c + 1 = schedule.every(3).minutes.do(loop)\n",
    "        print(c)\n",
    "        \n",
    "        while True:\n",
    "            schedule.run_pending()\n",
    "            time.sleep(2)"
   ]
  },
  {
   "cell_type": "code",
   "execution_count": null,
   "metadata": {},
   "outputs": [],
   "source": [
    "schedule_loop()"
   ]
  },
  {
   "cell_type": "code",
   "execution_count": null,
   "metadata": {},
   "outputs": [],
   "source": []
  }
 ],
 "metadata": {
  "kernelspec": {
   "display_name": "Python 3",
   "language": "python",
   "name": "python3"
  },
  "language_info": {
   "codemirror_mode": {
    "name": "ipython",
    "version": 3
   },
   "file_extension": ".py",
   "mimetype": "text/x-python",
   "name": "python",
   "nbconvert_exporter": "python",
   "pygments_lexer": "ipython3",
   "version": "3.9.1"
  }
 },
 "nbformat": 4,
 "nbformat_minor": 4
}
