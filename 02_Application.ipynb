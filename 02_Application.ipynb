{
 "cells": [
  {
   "cell_type": "markdown",
   "metadata": {},
   "source": [
    "# Application :"
   ]
  },
  {
   "cell_type": "markdown",
   "metadata": {},
   "source": [
    "---"
   ]
  },
  {
   "cell_type": "code",
   "execution_count": null,
   "metadata": {},
   "outputs": [],
   "source": [
    "\"\"\"\n",
    "Ces deux lignes permettent de :\n",
    "1 - Importer la librairie utils, qui permet de faire\n",
    "    appelle au fichier utils.py qui regroupe des scripts\n",
    "    \n",
    "2 - L'importation de la fonction def foil() qui fait elle\n",
    "    même appelle à d'autre fonction complémentaire pour son\n",
    "    bon fonctionnement, celle ci se lance automatiquement\n",
    "\"\"\"\n",
    "\n",
    "import utils\n",
    "\n",
    "utils.foil()"
   ]
  }
 ],
 "metadata": {
  "kernelspec": {
   "display_name": "Python 3",
   "language": "python",
   "name": "python3"
  },
  "language_info": {
   "codemirror_mode": {
    "name": "ipython",
    "version": 3
   },
   "file_extension": ".py",
   "mimetype": "text/x-python",
   "name": "python",
   "nbconvert_exporter": "python",
   "pygments_lexer": "ipython3",
   "version": "3.8.6"
  }
 },
 "nbformat": 4,
 "nbformat_minor": 4
}
