{
 "metadata": {
  "language_info": {
   "codemirror_mode": {
    "name": "ipython",
    "version": 3
   },
   "file_extension": ".py",
   "mimetype": "text/x-python",
   "name": "python",
   "nbconvert_exporter": "python",
   "pygments_lexer": "ipython3",
   "version": "3.8.6-final"
  },
  "orig_nbformat": 2,
  "kernelspec": {
   "name": "python3",
   "display_name": "Python 3.8.6 64-bit",
   "metadata": {
    "interpreter": {
     "hash": "a8bca9b366c39da4ca382f52d3278e47f0d7b6ea6d62d3829b8c8ebd123c7cdc"
    }
   }
  }
 },
 "nbformat": 4,
 "nbformat_minor": 2,
 "cells": [
  {
   "cell_type": "code",
   "execution_count": 2,
   "metadata": {},
   "outputs": [],
   "source": [
    "import sqlite3\n",
    "from sqlite3 import Error #permet de faire appel au module sqlite3"
   ]
  },
  {
   "cell_type": "code",
   "execution_count": 4,
   "metadata": {},
   "outputs": [
    {
     "output_type": "stream",
     "name": "stdout",
     "text": [
      "La base de données a été créée\n"
     ]
    }
   ],
   "source": [
    "try:\n",
    "       \n",
    "    db = sqlite3.connect(\"winds.db\")\n",
    "    \n",
    "    cursor = db.cursor()\n",
    "       \n",
    "    # Créer la table à l'aide de la méthode execute() de l'objet cursor\n",
    "    cursor.execute('''CREATE TABLE IF NOT EXISTS measurement (\n",
    "                    serial INTEGER PRIMARY KEY NOT NULL,\n",
    "                    id INTEGER type NOT NULL,\n",
    "                    latitude REAL,\n",
    "                    longitude REAL,\n",
    "                    state TEXT,\n",
    "                    date TEXT,\n",
    "                    wind_heading REAL,\n",
    "                    wind_speed_avg REAL,\n",
    "                    wind_speed_max REAL,\n",
    "                    wind_speed_min REAL)''')\n",
    "    \n",
    "    # A l'aide de la méthode commit(), on valide (sauvegarde) les changements\n",
    "    db.commit()\n",
    "  \n",
    "    # La méthode close() va nous permettre d'arrêter la connexion au curseur et à la base de données.\n",
    "    cursor.close()\n",
    "    db.close()\n",
    "except:\n",
    "    '''Ici, nous allons préciser le type d’erreur que l'instruction except doit intercepter :\n",
    "    exit(1), si c'est le cas, nous affichons le message \"Une erreur est survenue...\"\n",
    "\n",
    "    Il s'agit d'une convention dans les programmes pour indiquer le statut de sortie du programme :\n",
    "\n",
    "    - exit(0) signifie une sortie propre sans erreur ou problème\n",
    "\n",
    "    - exit(1) signifie un problème, une erreur à la sortie du programme.\n",
    "    '''\n",
    "    print(\"Une erreur est survenue lors de la creation de la base\")\n",
    "    \n",
    "# Le programme s'est bien executé, on peut afficher le message ci-dessous :    \n",
    "print(\"La base de données a été créée\")"
   ]
  },
  {
   "cell_type": "code",
   "execution_count": null,
   "metadata": {},
   "outputs": [],
   "source": []
  }
 ]
}